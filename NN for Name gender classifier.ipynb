{
 "cells": [
  {
   "cell_type": "code",
   "execution_count": 1,
   "metadata": {},
   "outputs": [],
   "source": [
    "%run prepare_data.ipynb\n",
    "from math import exp\n",
    "from random import seed\n",
    "from random import random\n",
    "import matplotlib.pyplot as plt"
   ]
  },
  {
   "cell_type": "code",
   "execution_count": 2,
   "metadata": {},
   "outputs": [
    {
     "name": "stdout",
     "output_type": "stream",
     "text": [
      "[0.0, 1.0, 1.0, 0.0, 1.0]\n",
      "[0.0, 0.0, 0.0, 0.0, 0.0]\n"
     ]
    }
   ],
   "source": [
    "training_data = read_csv_int('europe01_vornamen_as_features')\n",
    "test_data = read_csv_int('europe01_vornamen_test_data')\n",
    "\n",
    "print(training_data[0])\n",
    "print(test_data[0])"
   ]
  },
  {
   "cell_type": "code",
   "execution_count": 3,
   "metadata": {},
   "outputs": [],
   "source": [
    "def initialize_network(n_inputs, n_hidden, n_outputs):\n",
    "    network = list()\n",
    "    hidden_layer = [{'weights':[random() for i in range(n_inputs + 1)]} for i in range(n_hidden)]\n",
    "    network.append(hidden_layer)\n",
    "    output_layer = [{'weights':[random() for i in range(n_hidden + 1)]} for i in range(n_outputs)]\n",
    "    network.append(output_layer)\n",
    "    return network"
   ]
  },
  {
   "cell_type": "code",
   "execution_count": 4,
   "metadata": {},
   "outputs": [],
   "source": [
    "# Make a prediction with a network\n",
    "def predict(network, row):\n",
    "    outputs = forward_propagate(network, row)\n",
    "    return outputs.index(max(outputs))"
   ]
  },
  {
   "cell_type": "code",
   "execution_count": 5,
   "metadata": {},
   "outputs": [],
   "source": [
    "# Calculate neuron activation for an input\n",
    "def activate(weights, inputs):\n",
    "    activation = weights[-1]\n",
    "    for i in range(len(weights)-1):\n",
    "        activation += weights[i] * inputs[i]\n",
    "    return activation"
   ]
  },
  {
   "cell_type": "code",
   "execution_count": 6,
   "metadata": {},
   "outputs": [],
   "source": [
    "# Transfer neuron activation\n",
    "def transfer(activation):\n",
    "    return 1.0 / (1.0 + exp(-activation))"
   ]
  },
  {
   "cell_type": "code",
   "execution_count": 7,
   "metadata": {},
   "outputs": [],
   "source": [
    "# Forward propagate input to a network output\n",
    "def forward_propagate(network, row):\n",
    "    inputs = row\n",
    "    for layer in network:\n",
    "        new_inputs = []\n",
    "        for neuron in layer:\n",
    "            activation = activate(neuron['weights'], inputs)\n",
    "            neuron['output'] = transfer(activation)\n",
    "            new_inputs.append(neuron['output'])\n",
    "        inputs = new_inputs\n",
    "    return inputs"
   ]
  },
  {
   "cell_type": "code",
   "execution_count": 8,
   "metadata": {},
   "outputs": [],
   "source": [
    "# Calculate the derivative of an neuron output\n",
    "def transfer_derivative(output):\n",
    "    return output * (1.0 - output)"
   ]
  },
  {
   "cell_type": "code",
   "execution_count": 9,
   "metadata": {},
   "outputs": [],
   "source": [
    "# Backpropagate error and store in neurons\n",
    "def backward_propagate_error(network, expected):\n",
    "    for i in reversed(range(len(network))):\n",
    "        layer = network[i]\n",
    "        errors = list()\n",
    "        if i != len(network)-1:\n",
    "            for j in range(len(layer)):\n",
    "                error = 0.0\n",
    "                for neuron in network[i + 1]:\n",
    "                    error += (neuron['weights'][j] * neuron['delta'])\n",
    "                errors.append(error)\n",
    "        else:\n",
    "            for j in range(len(layer)):\n",
    "                neuron = layer[j]\n",
    "                errors.append(expected[j] - neuron['output'])\n",
    "        for j in range(len(layer)):\n",
    "            neuron = layer[j]\n",
    "            neuron['delta'] = errors[j] * transfer_derivative(neuron['output'])"
   ]
  },
  {
   "cell_type": "code",
   "execution_count": 10,
   "metadata": {},
   "outputs": [],
   "source": [
    "# Update network weights with error\n",
    "def update_weights(network, row, l_rate):\n",
    "    for i in range(len(network)):\n",
    "        inputs = row[:-1]\n",
    "        if i != 0:\n",
    "            inputs = [neuron['output'] for neuron in network[i - 1]]\n",
    "        for neuron in network[i]:\n",
    "            for j in range(len(inputs)):\n",
    "                neuron['weights'][j] += l_rate * neuron['delta'] * inputs[j]\n",
    "            neuron['weights'][-1] += l_rate * neuron['delta']"
   ]
  },
  {
   "cell_type": "code",
   "execution_count": 11,
   "metadata": {},
   "outputs": [],
   "source": [
    "# Train a network for a fixed number of epochs\n",
    "def train_network(network, train, l_rate, n_epoch, n_outputs):\n",
    "    costs = []\n",
    "    for epoch in range(n_epoch):\n",
    "        sum_error = 0\n",
    "        for row in train:\n",
    "            outputs = forward_propagate(network, row)\n",
    "            expected = [0 for i in range(n_outputs)]\n",
    "            expected[int(row[-1])] = 1\n",
    "            sum_error += sum([(expected[i]-outputs[i])**2 for i in range(len(expected))])\n",
    "            backward_propagate_error(network, expected)\n",
    "            update_weights(network, row, l_rate)\n",
    "        costs.append(sum_error)\n",
    "        if epoch % 25==0:\n",
    "            print('>epoch=%d, lrate=%.3f, error=%.3f' % (epoch, l_rate, sum_error))\n",
    "        plt.plot(costs)"
   ]
  },
  {
   "cell_type": "code",
   "execution_count": 15,
   "metadata": {},
   "outputs": [],
   "source": [
    "def calculate_precision(data, network):\n",
    "    correct_count = 0\n",
    "    for row in data:\n",
    "        prediction = predict(network, row)\n",
    "        if prediction == row[-1]:\n",
    "            correct_count += 1\n",
    "        #print('Expected=%d, Got=%d' % (row[-1], prediction))\n",
    "    precision = (correct_count * 100) / len(data)\n",
    "    print(\"precision: {}\".format(precision))\n",
    "    #return precision"
   ]
  },
  {
   "cell_type": "code",
   "execution_count": 16,
   "metadata": {
    "scrolled": false
   },
   "outputs": [
    {
     "name": "stdout",
     "output_type": "stream",
     "text": [
      ">epoch=0, lrate=7.000, error=4735.176\n",
      ">epoch=25, lrate=7.000, error=4686.167\n",
      ">epoch=50, lrate=7.000, error=4674.981\n",
      ">epoch=75, lrate=7.000, error=4678.064\n",
      ">epoch=100, lrate=7.000, error=4683.004\n",
      ">epoch=125, lrate=7.000, error=4682.845\n",
      ">epoch=150, lrate=7.000, error=4679.122\n",
      ">epoch=175, lrate=7.000, error=4680.270\n",
      ">epoch=200, lrate=7.000, error=4685.505\n",
      ">epoch=225, lrate=7.000, error=4673.429\n",
      "Training Data\n",
      "precision: 76.99486700886608\n",
      "Test Data\n",
      "precision: 76.7192886953366\n"
     ]
    },
    {
     "data": {
      "image/png": "[encoded data removed]",
      "text/plain": [
       "<Figure size 432x288 with 1 Axes>"
      ]
     },
     "metadata": {
      "needs_background": "light"
     },
     "output_type": "display_data"
    }
   ],
   "source": [
    "# Test training backprop algorithm\n",
    "seed(1)\n",
    "n_inputs = len(training_data[0]) - 1\n",
    "n_outputs = len(set([row[-1] for row in training_data]))\n",
    "network = initialize_network(n_inputs, 3, n_outputs)\n",
    "train_network(network, training_data, 7, 250, n_outputs)\n",
    "print(\"Training Data\")\n",
    "calculate_precision(training_data, network)\n",
    "print(\"Test Data\")\n",
    "calculate_precision(test_data, network)"
   ]
  },
  {
   "cell_type": "code",
   "execution_count": 14,
   "metadata": {},
   "outputs": [
    {
     "name": "stdout",
     "output_type": "stream",
     "text": [
      "Sebastian ## predicted correct: True\n",
      "Gefei ## predicted correct: False\n",
      "Sophie ## predicted correct: True\n",
      "Maria ## predicted correct: True\n",
      "Anne ## predicted correct: False\n",
      "Anna ## predicted correct: True\n",
      "Mai ## predicted correct: False\n",
      "Kai ## predicted correct: True\n",
      "Jenny ## predicted correct: False\n",
      "Denny ## predicted correct: True\n",
      "R2D2 ## predicted correct: True\n",
      "Chewbacca ## predicted correct: False\n"
     ]
    }
   ],
   "source": [
    "def convert_name_to_features(name, gender):\n",
    "    name = name.lower()\n",
    "    name_features = [\n",
    "        int(count_vowel_gt_2(name)),\n",
    "        last_letter_vowel(name),\n",
    "        int(last_letter_a(name)),\n",
    "        first_letter_vowel(name),\n",
    "        gender\n",
    "    ]\n",
    "    return name_features\n",
    "\n",
    "def predict_name(name, gender):\n",
    "        print(\"{} ## predicted correct: {}\".format(\n",
    "            name,\n",
    "            calculate_precision([convert_name_to_features(name, gender)], network) > 99)\n",
    "        )\n",
    "#0 = female, 1 = male\n",
    "predict_name(\"Sebastian\", 0)\n",
    "predict_name(\"Gefei\", 0)\n",
    "predict_name(\"Sophie\", 1)\n",
    "predict_name(\"Maria\", 1)\n",
    "predict_name(\"Anne\", 1)\n",
    "predict_name(\"Anna\", 1)\n",
    "predict_name(\"Mai\", 1)\n",
    "predict_name(\"Kai\", 0)\n",
    "predict_name(\"Jenny\", 1)\n",
    "predict_name(\"Denny\", 0)\n",
    "predict_name(\"R2D2\", 0)\n",
    "predict_name(\"Chewbacca\", 0)"
   ]
  }
 ],
 "metadata": {
  "kernelspec": {
   "display_name": "Python 3",
   "language": "python",
   "name": "python3"
  },
  "language_info": {
   "codemirror_mode": {
    "name": "ipython",
    "version": 3
   },
   "file_extension": ".py",
   "mimetype": "text/x-python",
   "name": "python",
   "nbconvert_exporter": "python",
   "pygments_lexer": "ipython3",
   "version": "3.6.2"
  }
 },
 "nbformat": 4,
 "nbformat_minor": 2
}
