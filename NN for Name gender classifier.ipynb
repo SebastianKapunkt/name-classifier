{
 "cells": [
  {
   "cell_type": "code",
   "execution_count": 7,
   "metadata": {},
   "outputs": [],
   "source": [
    "%run prepare_data.ipynb\n",
    "from math import exp\n",
    "from random import seed\n",
    "from random import random\n",
    "import matplotlib.pyplot as plt"
   ]
  },
  {
   "cell_type": "code",
   "execution_count": 8,
   "metadata": {},
   "outputs": [
    {
     "name": "stdout",
     "output_type": "stream",
     "text": [
      "[0, 0, 0, 0, 1]\n",
      "[0, 1, 0, 0, 0]\n"
     ]
    }
   ],
   "source": [
    "training_data = read_csv_int('vornamen_as_features')\n",
    "test_data = read_csv_int('vornamen_test_data')\n",
    "\n",
    "print(training_data[0])\n",
    "print(test_data[0])"
   ]
  },
  {
   "cell_type": "code",
   "execution_count": 9,
   "metadata": {},
   "outputs": [],
   "source": [
    "def initialize_network(n_inputs, n_hidden, n_outputs):\n",
    "    network = list()\n",
    "    hidden_layer = [{'weights':[random() for i in range(n_inputs + 1)]} for i in range(n_hidden)]\n",
    "    network.append(hidden_layer)\n",
    "    output_layer = [{'weights':[random() for i in range(n_hidden + 1)]} for i in range(n_outputs)]\n",
    "    network.append(output_layer)\n",
    "    return network"
   ]
  },
  {
   "cell_type": "code",
   "execution_count": 10,
   "metadata": {},
   "outputs": [],
   "source": [
    "# Make a prediction with a network\n",
    "def predict(network, row):\n",
    "    outputs = forward_propagate(network, row)\n",
    "    return outputs.index(max(outputs))"
   ]
  },
  {
   "cell_type": "code",
   "execution_count": 11,
   "metadata": {},
   "outputs": [],
   "source": [
    "# Calculate neuron activation for an input\n",
    "def activate(weights, inputs):\n",
    "    activation = weights[-1]\n",
    "    for i in range(len(weights)-1):\n",
    "        activation += weights[i] * inputs[i]\n",
    "    return activation"
   ]
  },
  {
   "cell_type": "code",
   "execution_count": 12,
   "metadata": {},
   "outputs": [],
   "source": [
    "# Transfer neuron activation\n",
    "def transfer(activation):\n",
    "    return 1.0 / (1.0 + exp(-activation))"
   ]
  },
  {
   "cell_type": "code",
   "execution_count": 13,
   "metadata": {},
   "outputs": [],
   "source": [
    "# Forward propagate input to a network output\n",
    "def forward_propagate(network, row):\n",
    "    inputs = row\n",
    "    for layer in network:\n",
    "        new_inputs = []\n",
    "        for neuron in layer:\n",
    "            activation = activate(neuron['weights'], inputs)\n",
    "            neuron['output'] = transfer(activation)\n",
    "            new_inputs.append(neuron['output'])\n",
    "        inputs = new_inputs\n",
    "    return inputs"
   ]
  },
  {
   "cell_type": "code",
   "execution_count": 14,
   "metadata": {},
   "outputs": [],
   "source": [
    "# Calculate the derivative of an neuron output\n",
    "def transfer_derivative(output):\n",
    "    return output * (1.0 - output)"
   ]
  },
  {
   "cell_type": "code",
   "execution_count": 15,
   "metadata": {},
   "outputs": [],
   "source": [
    "# Backpropagate error and store in neurons\n",
    "def backward_propagate_error(network, expected):\n",
    "    for i in reversed(range(len(network))):\n",
    "        layer = network[i]\n",
    "        errors = list()\n",
    "        if i != len(network)-1:\n",
    "            for j in range(len(layer)):\n",
    "                error = 0.0\n",
    "                for neuron in network[i + 1]:\n",
    "                    error += (neuron['weights'][j] * neuron['delta'])\n",
    "                errors.append(error)\n",
    "        else:\n",
    "            for j in range(len(layer)):\n",
    "                neuron = layer[j]\n",
    "                errors.append(expected[j] - neuron['output'])\n",
    "        for j in range(len(layer)):\n",
    "            neuron = layer[j]\n",
    "            neuron['delta'] = errors[j] * transfer_derivative(neuron['output'])"
   ]
  },
  {
   "cell_type": "code",
   "execution_count": 16,
   "metadata": {},
   "outputs": [],
   "source": [
    "# Update network weights with error\n",
    "def update_weights(network, row, l_rate):\n",
    "    for i in range(len(network)):\n",
    "        inputs = row[:-1]\n",
    "        if i != 0:\n",
    "            inputs = [neuron['output'] for neuron in network[i - 1]]\n",
    "        for neuron in network[i]:\n",
    "            for j in range(len(inputs)):\n",
    "                neuron['weights'][j] += l_rate * neuron['delta'] * inputs[j]\n",
    "            neuron['weights'][-1] += l_rate * neuron['delta']"
   ]
  },
  {
   "cell_type": "code",
   "execution_count": 17,
   "metadata": {},
   "outputs": [],
   "source": [
    "\n",
    "# Train a network for a fixed number of epochs\n",
    "def train_network(network, train, l_rate, n_epoch, n_outputs):\n",
    "    costs = []\n",
    "    for epoch in range(n_epoch):\n",
    "        sum_error = 0\n",
    "        for row in train:\n",
    "            outputs = forward_propagate(network, row)\n",
    "            expected = [0 for i in range(n_outputs)]\n",
    "            expected[row[-1]] = 1\n",
    "            sum_error += sum([(expected[i]-outputs[i])**2 for i in range(len(expected))])\n",
    "            backward_propagate_error(network, expected)\n",
    "            update_weights(network, row, l_rate)\n",
    "        costs.append(sum_error)\n",
    "        print('>epoch=%d, lrate=%.3f, error=%.3f' % (epoch, l_rate, sum_error))\n",
    "        plt.plot(costs)"
   ]
  },
  {
   "cell_type": "code",
   "execution_count": 60,
   "metadata": {
    "scrolled": false
   },
   "outputs": [
    {
     "name": "stdout",
     "output_type": "stream",
     "text": [
      ">epoch=0, lrate=0.010, error=6240.001\n",
      ">epoch=1, lrate=0.010, error=4450.301\n",
      ">epoch=2, lrate=0.010, error=4059.274\n",
      ">epoch=3, lrate=0.010, error=4005.073\n",
      ">epoch=4, lrate=0.010, error=3988.247\n",
      ">epoch=5, lrate=0.010, error=3979.992\n",
      ">epoch=6, lrate=0.010, error=3975.289\n",
      ">epoch=7, lrate=0.010, error=3972.397\n",
      ">epoch=8, lrate=0.010, error=3970.516\n",
      ">epoch=9, lrate=0.010, error=3969.235\n",
      ">epoch=10, lrate=0.010, error=3968.327\n",
      ">epoch=11, lrate=0.010, error=3967.663\n",
      ">epoch=12, lrate=0.010, error=3967.162\n",
      ">epoch=13, lrate=0.010, error=3966.774\n",
      ">epoch=14, lrate=0.010, error=3966.468\n",
      ">epoch=15, lrate=0.010, error=3966.221\n",
      ">epoch=16, lrate=0.010, error=3966.019\n",
      ">epoch=17, lrate=0.010, error=3965.850\n",
      ">epoch=18, lrate=0.010, error=3965.707\n",
      ">epoch=19, lrate=0.010, error=3965.585\n",
      ">epoch=20, lrate=0.010, error=3965.478\n",
      ">epoch=21, lrate=0.010, error=3965.384\n",
      ">epoch=22, lrate=0.010, error=3965.301\n",
      ">epoch=23, lrate=0.010, error=3965.226\n",
      ">epoch=24, lrate=0.010, error=3965.157\n",
      ">epoch=25, lrate=0.010, error=3965.095\n",
      ">epoch=26, lrate=0.010, error=3965.037\n",
      ">epoch=27, lrate=0.010, error=3964.983\n",
      ">epoch=28, lrate=0.010, error=3964.933\n",
      ">epoch=29, lrate=0.010, error=3964.885\n",
      "[{'weights': [-0.17086574201113233, 0.9088415345918571, 1.4171705556255607, 0.07264724755499061, -0.5091261213502433], 'output': 0.37544732986291146, 'delta': -0.020865033914024337}, {'weights': [0.06094324116717439, 0.8299225652181936, 1.5757390441302686, -0.2528242788803336, -0.946076674252987], 'output': 0.2797142518312645, 'delta': -0.019722142009042536}, {'weights': [0.41820170496752646, 0.4081921409239178, 1.1346658189833525, -0.2755096626387067, -0.3196526368185996], 'output': 0.4207920469931433, 'delta': -0.012982633501175532}, {'weights': [0.22566109770581697, 0.4994909910239701, 1.8026557371917036, 0.4058454723009069, -1.2983676607073833], 'output': 0.21446964529093468, 'delta': -0.017677451193078418}, {'weights': [-0.10120169284150442, 0.6696956918373406, 1.8831345563513782, 0.13349563271182732, -0.9239622399468308], 'output': 0.2841983685841134, 'delta': -0.023163773396951953}, {'weights': [-0.12119459020997281, -0.7755234031799846, -1.506471841212836, 0.2834017677828905, 0.8335326022966439], 'output': 0.6970442774640124, 'delta': 0.027033236750380843}, {'weights': [-0.09620548038853755, -0.49773171942733424, -1.18841508008661, 0.37516150344379173, 0.47074353235078553], 'output': 0.615505871508163, 'delta': 0.022756568638091508}]\n",
      "[{'weights': [-1.3268934426526855, -0.807264059730504, -0.5978439831569403, -1.1496151841119233, -1.5019398715512071, 1.897517852286962, 1.420739091570298, 0.6829107637233568], 'output': 0.7738424867493616, 'delta': 0.039579892533968326}, {'weights': [0.9365762657610326, 1.6939492551607114, 0.7603150452684337, 1.5266970324123916, 1.3980052541735177, -1.3600137234062888, -1.02630429464977, -1.5341954773535977], 'output': 0.22394551514107738, 'delta': -0.038920369253909064}]\n"
     ]
    },
    {
     "data": {
      "image/png": "[encoded data removed]",
      "text/plain": [
       "<Figure size 432x288 with 1 Axes>"
      ]
     },
     "metadata": {
      "needs_background": "light"
     },
     "output_type": "display_data"
    }
   ],
   "source": [
    "\n",
    "# Test training backprop algorithm\n",
    "seed(1)\n",
    "n_inputs = len(training_data[0]) - 1\n",
    "n_outputs = len(set([row[-1] for row in training_data]))\n",
    "network = initialize_network(n_inputs, 7, n_outputs)\n",
    "train_network(network, training_data, 0.01, 30, n_outputs)\n",
    "for layer in network:\n",
    "    print(layer)"
   ]
  },
  {
   "cell_type": "code",
   "execution_count": 61,
   "metadata": {
    "scrolled": false
   },
   "outputs": [
    {
     "name": "stdout",
     "output_type": "stream",
     "text": [
      "NN precision: 78.02576664852114\n"
     ]
    }
   ],
   "source": [
    "correct_count = 0\n",
    "for row in test_data:\n",
    "    prediction = predict(network, row)\n",
    "    if prediction == row[-1]:\n",
    "        correct_count += 1\n",
    "    #print('Expected=%d, Got=%d' % (row[-1], prediction))\n",
    "precision = (correct_count * 100) / len(test_data)\n",
    "print(\"NN precision: {}\".format(precision))\n",
    "# EUROÄISCHE NAMEN DATENSATZ #########################################\n",
    "#NN precision: 76.0841952458719 learning-rate: 0.01 hidden-units: 20\n",
    "#NN precision: 78.02576664852114 learning-rate: 0.01 hidden-units: 6\n",
    "#NN precision: 78.02576664852114 learning-rate: 0.01 hidden-units: 5\n",
    "#NN precision: 78.02576664852114 learning-rate: 0.01 hidden-units: 4\n",
    "#NN precision: 78.02576664852114 learning-rate: 0.01 hidden-units: 3\n",
    "#NN precision: 78.02576664852114 learning-rate: 0.01 hidden-units: 2\n",
    "#NN precision: 78.02576664852114 learning-rate: 0.01 hidden-units: 1\n",
    "#NN precision: 76.0841952458719 learning-rate: 0.07 hidden-units: 6\n",
    "#NN precision: 74.2152059517329 learning-rate: 0.7 hidden-units: 20\n",
    "#NN precision: 74.2152059517329 learning-rate: 0.7 hidden-units: 5\n",
    "#NN precision: 56.051533297042276 learning-rate 0.0001 hidden-units: 5\n",
    "\n",
    "# BERLINER NAMEN DATENSATZ #########################################"
   ]
  }
 ],
 "metadata": {
  "kernelspec": {
   "display_name": "Python 3",
   "language": "python",
   "name": "python3"
  },
  "language_info": {
   "codemirror_mode": {
    "name": "ipython",
    "version": 3
   },
   "file_extension": ".py",
   "mimetype": "text/x-python",
   "name": "python",
   "nbconvert_exporter": "python",
   "pygments_lexer": "ipython3",
   "version": "3.6.2"
  }
 },
 "nbformat": 4,
 "nbformat_minor": 2
}
