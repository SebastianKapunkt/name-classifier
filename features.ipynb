{
 "cells": [
  {
   "cell_type": "code",
   "execution_count": 1,
   "metadata": {},
   "outputs": [],
   "source": [
    "%run utils.ipynb\n",
    "%run feature_count_vocal.ipynb\n",
    "%run feature_count_consonant.ipynb\n",
    "%run feature_count_soft_consonant.ipynb\n",
    "%run feature_count_hard_consonant.ipynb\n",
    "%run feature_last_letter.ipynb\n",
    "%run feature_len_name.ipynb"
   ]
  },
  {
   "cell_type": "code",
   "execution_count": 2,
   "metadata": {},
   "outputs": [],
   "source": [
    "def features_to_list():\n",
    "    return [\n",
    "        count_vowel_gt_2,\n",
    "        last_letter_vowel,\n",
    "        last_letter_a,\n",
    "        first_letter_vowel\n",
    "    ]"
   ]
  }
 ],
 "metadata": {
  "kernelspec": {
   "display_name": "Python 3",
   "language": "python",
   "name": "python3"
  },
  "language_info": {
   "codemirror_mode": {
    "name": "ipython",
    "version": 3
   },
   "file_extension": ".py",
   "mimetype": "text/x-python",
   "name": "python",
   "nbconvert_exporter": "python",
   "pygments_lexer": "ipython3",
   "version": "3.6.2"
  }
 },
 "nbformat": 4,
 "nbformat_minor": 2
}
