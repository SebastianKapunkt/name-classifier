{
 "cells": [
  {
   "cell_type": "code",
   "execution_count": 50,
   "metadata": {},
   "outputs": [],
   "source": [
    "%run prepare_data.ipynb"
   ]
  },
  {
   "cell_type": "code",
   "execution_count": 51,
   "metadata": {},
   "outputs": [],
   "source": [
    "import numpy as np\n",
    "from matplotlib import pyplot as plt"
   ]
  },
  {
   "cell_type": "code",
   "execution_count": 52,
   "metadata": {},
   "outputs": [],
   "source": [
    "training_data = read_csv_int('vornamen_as_features')\n",
    "test_data = read_csv_int('vornamen_test_data')"
   ]
  },
  {
   "cell_type": "code",
   "execution_count": 53,
   "metadata": {},
   "outputs": [],
   "source": [
    "def sigmoid(x):\n",
    "    return 1/(1+np.exp(-x))"
   ]
  },
  {
   "cell_type": "code",
   "execution_count": 54,
   "metadata": {},
   "outputs": [],
   "source": [
    "def sigmoid_p(x):\n",
    "    return sigmoid(x) * (1-sigmoid(x))"
   ]
  },
  {
   "cell_type": "code",
   "execution_count": 55,
   "metadata": {},
   "outputs": [],
   "source": [
    "def hypothesis_multivariable_linear_regression(data_point, weights):\n",
    "    z = 0\n",
    "    for i in range(len(data_point)):\n",
    "        z = z + weights[i] * data_point[i]\n",
    "    # weights is one longer than features in data_point for bias unit\n",
    "    z = z + weights[-1] # just add the bias unit weight\n",
    "    return z"
   ]
  },
  {
   "cell_type": "code",
   "execution_count": 56,
   "metadata": {},
   "outputs": [],
   "source": [
    "weights = []\n",
    "\n",
    "for i in range(len(training_data[0])): # number of features + bias unit == training_data length\n",
    "    #random weight initilization\n",
    "    weights.append(np.random.uniform(low=i/10, high=i/10+0.1, size=1)[0])"
   ]
  },
  {
   "cell_type": "code",
   "execution_count": null,
   "metadata": {
    "scrolled": false
   },
   "outputs": [],
   "source": [
    "iterations = 20000\n",
    "learning_rate = 0.05\n",
    "costs = []\n",
    "\n",
    "\n",
    "for i in range(iterations):\n",
    "    # select random datapoint for training\n",
    "    data_point = training_data[np.random.randint(len(training_data))]\n",
    "    \n",
    "    # [:-1] to cut out the value we want to predict\n",
    "    z = hypothesis_multivariable_linear_regression(data_point[:-1], weights)\n",
    "\n",
    "    prediction = sigmoid(z)\n",
    "    target = data_point[-1]\n",
    "    cost = np.square(prediction - target)\n",
    "    \n",
    "    if i % 100 == 0:\n",
    "        c = 0\n",
    "        for j in range(len(training_data)):\n",
    "            track_z = hypothesis_multivariable_linear_regression(training_data[j][:-1], weights)            \n",
    "            # add prediction - target to cost\n",
    "            c += np.square(sigmoid(track_z) - training_data[j][-1])\n",
    "        costs.append(c)\n",
    "    \n",
    "    if i % 5000 == 0 and i > 0:\n",
    "        print(i)\n",
    "    \n",
    "    derivative_cost_prediction = learning_rate * 2 * (prediction - target) * sigmoid_p(z)\n",
    "    \n",
    "    for i in range(len(weights) - 1):\n",
    "        weights[i] = weights[i] - derivative_cost_prediction * data_point[i]\n",
    "    weights[-1] = weights[-1] - derivative_cost_prediction * 1 # bias weight\n",
    "    \n",
    "fig = plt.plot(costs)"
   ]
  },
  {
   "cell_type": "code",
   "execution_count": null,
   "metadata": {},
   "outputs": [],
   "source": [
    "def calculate_accuracy(test_data, weights):\n",
    "    count_true = 0\n",
    "    for data in test_data:\n",
    "        z = hypothesis_multivariable_linear_regression(data[:-1], weights)\n",
    "        prediction = sigmoid(z)\n",
    "        \n",
    "        if prediction > 0.5:\n",
    "            prediction = 1\n",
    "        else:\n",
    "            prediction = 0\n",
    "        \n",
    "        if data[-1] == prediction:\n",
    "            count_true = count_true + 1\n",
    "    \n",
    "    return (count_true * 100) / len(test_data)"
   ]
  },
  {
   "cell_type": "code",
   "execution_count": null,
   "metadata": {
    "scrolled": true
   },
   "outputs": [],
   "source": [
    "accuracy = calculate_accuracy(test_data, weights)\n",
    "\n",
    "print(accuracy)"
   ]
  },
  {
   "cell_type": "code",
   "execution_count": null,
   "metadata": {},
   "outputs": [],
   "source": []
  }
 ],
 "metadata": {
  "kernelspec": {
   "display_name": "Python 3",
   "language": "python",
   "name": "python3"
  },
  "language_info": {
   "codemirror_mode": {
    "name": "ipython",
    "version": 3
   },
   "file_extension": ".py",
   "mimetype": "text/x-python",
   "name": "python",
   "nbconvert_exporter": "python",
   "pygments_lexer": "ipython3",
   "version": "3.6.2"
  }
 },
 "nbformat": 4,
 "nbformat_minor": 2
}
