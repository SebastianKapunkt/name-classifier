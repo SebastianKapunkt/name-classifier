{
 "cells": [
  {
   "cell_type": "code",
   "execution_count": 152,
   "metadata": {},
   "outputs": [],
   "source": [
    "%run prepare_data.ipynb"
   ]
  },
  {
   "cell_type": "code",
   "execution_count": 153,
   "metadata": {},
   "outputs": [],
   "source": [
    "import numpy as np\n",
    "from matplotlib import pyplot as plt"
   ]
  },
  {
   "cell_type": "code",
   "execution_count": 154,
   "metadata": {},
   "outputs": [],
   "source": [
    "training_data = read_csv_int('vornamen_as_features')\n",
    "test_data = read_csv_int('vornamen_test_data')"
   ]
  },
  {
   "cell_type": "code",
   "execution_count": 155,
   "metadata": {},
   "outputs": [],
   "source": [
    "import time\n",
    "def timing(f):\n",
    "    def wrap(*args):\n",
    "        time1 = time.time()\n",
    "        ret = f(*args)\n",
    "        time2 = time.time()\n",
    "        print('{:s} function took {:.3f} ms'.format(f.__name__, (time2-time1)*1000.0))\n",
    "\n",
    "        return ret\n",
    "    return wrap"
   ]
  },
  {
   "cell_type": "code",
   "execution_count": 156,
   "metadata": {},
   "outputs": [],
   "source": [
    "def sigmoid(x):\n",
    "    return 1/(1+np.exp(-x))"
   ]
  },
  {
   "cell_type": "code",
   "execution_count": 157,
   "metadata": {},
   "outputs": [],
   "source": [
    "def sigmoid_p(x):\n",
    "    return sigmoid(x) * (1-sigmoid(x))"
   ]
  },
  {
   "cell_type": "code",
   "execution_count": 158,
   "metadata": {},
   "outputs": [],
   "source": [
    "def hypothesis(data_point, weights):\n",
    "    z = 0\n",
    "    for i in range(len(data_point)):\n",
    "        z = z + weights[i] * data_point[i]\n",
    "    # weights is one longer than features in data_point for bias unit\n",
    "    z = z + weights[-1] # just add the bias unit weight\n",
    "    return z"
   ]
  },
  {
   "cell_type": "code",
   "execution_count": 159,
   "metadata": {},
   "outputs": [],
   "source": [
    "def adjustment(weights, data_point, derivative_cost_prediction):\n",
    "    for i in range(len(weights) - 1):\n",
    "        weights[i] = weights[i] - derivative_cost_prediction * data_point[i]\n",
    "    weights[-1] = weights[-1] - derivative_cost_prediction * 1 # bias weight\n",
    "    return weights"
   ]
  },
  {
   "cell_type": "code",
   "execution_count": 162,
   "metadata": {
    "scrolled": false
   },
   "outputs": [
    {
     "name": "stdout",
     "output_type": "stream",
     "text": [
      "5000\n",
      "10000\n",
      "15000\n",
      "train_model function took 49305.534 ms\n"
     ]
    },
    {
     "data": {
      "image/png": "[encoded data removed]",
      "text/plain": [
       "<Figure size 432x288 with 1 Axes>"
      ]
     },
     "metadata": {
      "needs_background": "light"
     },
     "output_type": "display_data"
    }
   ],
   "source": [
    "@timing\n",
    "def train_model(training_data):\n",
    "    iterations = 20000\n",
    "    learning_rate = 0.05\n",
    "    costs = []\n",
    "    \n",
    "    weights = []\n",
    "\n",
    "    for i in range(len(training_data[0])): # number of features + bias unit == training_data length\n",
    "        #random weight initilization\n",
    "        weights.append(np.random.uniform(low=i/10, high=i/10+0.1, size=1)[0])\n",
    "    \n",
    "    for i in range(iterations):\n",
    "        # select random datapoint for training\n",
    "        data_point = training_data[np.random.randint(len(training_data))]\n",
    "\n",
    "        # [:-1] to cut out the value we want to predict\n",
    "        z = hypothesis(data_point[:-1], weights)\n",
    "\n",
    "        prediction = sigmoid(z)\n",
    "        target = data_point[-1]\n",
    "        cost = np.square(prediction - target)\n",
    "\n",
    "        if i % 100 == 0:\n",
    "            c = 0\n",
    "            for j in range(len(training_data)):\n",
    "                track_z = hypothesis(training_data[j][:-1], weights)            \n",
    "                # add prediction - target to cost\n",
    "                c += np.square(sigmoid(track_z) - training_data[j][-1])\n",
    "            costs.append(c)\n",
    "\n",
    "        if i % 5000 == 0 and i > 0:\n",
    "            print(i)\n",
    "\n",
    "        derivative_cost_prediction = learning_rate * 2 * (prediction - target) * sigmoid_p(z)\n",
    "        \n",
    "        weights = adjustment(weights, data_point[:-1], derivative_cost_prediction)\n",
    "\n",
    "    fig = plt.plot(costs)\n",
    "    return weights\n",
    "\n",
    "weights = train_model(np_array_training_data)"
   ]
  },
  {
   "cell_type": "code",
   "execution_count": 163,
   "metadata": {},
   "outputs": [],
   "source": [
    "def calculate_accuracy(test_data, weights):\n",
    "    count_true = 0\n",
    "    for data in test_data:\n",
    "        z = hypothesis(data[:-1], weights)\n",
    "        prediction = sigmoid(z)\n",
    "        \n",
    "        if prediction > 0.5:\n",
    "            prediction = 1\n",
    "        else:\n",
    "            prediction = 0\n",
    "        \n",
    "        if data[-1] == prediction:\n",
    "            count_true = count_true + 1\n",
    "    \n",
    "    return (count_true * 100) / len(test_data)"
   ]
  },
  {
   "cell_type": "code",
   "execution_count": 164,
   "metadata": {
    "scrolled": true
   },
   "outputs": [
    {
     "name": "stdout",
     "output_type": "stream",
     "text": [
      "73.16276537833424\n"
     ]
    }
   ],
   "source": [
    "accuracy = calculate_accuracy(test_data, weights)\n",
    "\n",
    "print(accuracy)"
   ]
  }
 ],
 "metadata": {
  "kernelspec": {
   "display_name": "Python 3",
   "language": "python",
   "name": "python3"
  },
  "language_info": {
   "codemirror_mode": {
    "name": "ipython",
    "version": 3
   },
   "file_extension": ".py",
   "mimetype": "text/x-python",
   "name": "python",
   "nbconvert_exporter": "python",
   "pygments_lexer": "ipython3",
   "version": "3.6.2"
  }
 },
 "nbformat": 4,
 "nbformat_minor": 2
}
