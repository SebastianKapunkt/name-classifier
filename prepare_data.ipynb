{
 "cells": [
  {
   "cell_type": "code",
   "execution_count": 92,
   "metadata": {},
   "outputs": [],
   "source": [
    "import random\n",
    "import csv"
   ]
  },
  {
   "cell_type": "code",
   "execution_count": 77,
   "metadata": {},
   "outputs": [],
   "source": [
    "%run load_names.ipynb\n",
    "%run features.ipynb"
   ]
  },
  {
   "cell_type": "code",
   "execution_count": 78,
   "metadata": {},
   "outputs": [],
   "source": [
    "# split data training = 70, test = 30\n",
    "def get_training_and_test_data(names):\n",
    "    shuffled_names = random.sample(names, len(names))\n",
    "    training_data = []\n",
    "    test_data = []\n",
    "\n",
    "    len_training_data = int((70 * len(shuffled_names)) / 100)\n",
    "    len_test_data = int(len(shuffled_names) - len_training_data)\n",
    "\n",
    "    for i in range(1, len_training_data):\n",
    "        training_data.append(shuffled_names[i])\n",
    "\n",
    "    for i in range(len_training_data, len_training_data + len_test_data):\n",
    "        test_data.append(shuffled_names[i])\n",
    "        \n",
    "    return training_data, test_data"
   ]
  },
  {
   "cell_type": "code",
   "execution_count": 79,
   "metadata": {},
   "outputs": [],
   "source": [
    "def apply_features(names, features, female_gener_string):\n",
    "    featured_names = []\n",
    "    for name in names:\n",
    "        applyed_features = []\n",
    "        for feature in features:\n",
    "            applyed_features.append(int(feature(name[0])))\n",
    "        applyed_features.append(int(name[1] == female_gener_string))\n",
    "        featured_names.append(applyed_features)\n",
    "        \n",
    "    return featured_names"
   ]
  },
  {
   "cell_type": "code",
   "execution_count": 80,
   "metadata": {},
   "outputs": [],
   "source": [
    "def save_list_to_file(a, filename):\n",
    "    with open(\"{}.csv\".format(filename), \"w\") as f:\n",
    "        writer = csv.writer(f)\n",
    "        writer.writerows(a)"
   ]
  },
  {
   "cell_type": "code",
   "execution_count": 81,
   "metadata": {},
   "outputs": [],
   "source": [
    "def create_traing_data():\n",
    "    names = load_firstnames()\n",
    "    training_data, test_data = get_training_and_test_data(names)\n",
    "    training_data_as_features = apply_features(names, features_to_list(), \"weiblich\")\n",
    "\n",
    "    save_list_to_file(training_data_as_features, \"vornamen_as_features\")\n",
    "    save_list_to_file(test_data, \"vornamen_test_data\")"
   ]
  },
  {
   "cell_type": "code",
   "execution_count": 90,
   "metadata": {},
   "outputs": [],
   "source": [
    "def read_csv_int(filename):\n",
    "    data = []\n",
    "    with open('{}.csv'.format(filename), newline='') as csvfile:\n",
    "        data = list(list(map(int, rec)) for rec in csv.reader(csvfile, delimiter=','))\n",
    "    return data"
   ]
  },
  {
   "cell_type": "code",
   "execution_count": 91,
   "metadata": {},
   "outputs": [],
   "source": [
    "def read_csv(filename):\n",
    "    data = []\n",
    "    with open('{}.csv'.format(filename), newline='') as csvfile:\n",
    "        data = list(list(rec) for rec in csv.reader(csvfile, delimiter=','))\n",
    "    return data"
   ]
  }
 ],
 "metadata": {
  "kernelspec": {
   "display_name": "Python 3",
   "language": "python",
   "name": "python3"
  },
  "language_info": {
   "codemirror_mode": {
    "name": "ipython",
    "version": 3
   },
   "file_extension": ".py",
   "mimetype": "text/x-python",
   "name": "python",
   "nbconvert_exporter": "python",
   "pygments_lexer": "ipython3",
   "version": "3.6.2"
  }
 },
 "nbformat": 4,
 "nbformat_minor": 2
}
